{
 "cells": [
  {
   "cell_type": "code",
   "execution_count": 1,
   "metadata": {},
   "outputs": [
    {
     "name": "stdout",
     "output_type": "stream",
     "text": [
      "QR code généré : qr_codes/QR_1001_Jean_Dupont.png\n",
      "QR code généré : qr_codes/QR_1002_Alice_N'Diaye.png\n",
      "QR code généré : qr_codes/QR_1003_Mohamed_Diallo.png\n",
      "QR code généré : qr_codes/QR_1004_Sophie_Diouf.png\n",
      "QR code généré : qr_codes/QR_1005_Brahim_Sow.png\n"
     ]
    }
   ],
   "source": [
    "import pandas as pd\n",
    "import qrcode\n",
    "\n",
    "# Charger les membres\n",
    "membres = pd.read_csv(\"membres.csv\")\n",
    "\n",
    "# Dossier de sortie pour les QR codes\n",
    "output_folder = \"qr_codes/\"\n",
    "import os\n",
    "os.makedirs(output_folder, exist_ok=True)\n",
    "\n",
    "for _, row in membres.iterrows():\n",
    "    matricule = str(row[\"matricule\"])\n",
    "    nom = row[\"nom\"]\n",
    "\n",
    "    # Générer QR code (le contenu = matricule uniquement)\n",
    "    qr = qrcode.make(matricule)\n",
    "\n",
    "    # Sauvegarder l'image QR code\n",
    "    filename = f\"{output_folder}QR_{matricule}_{nom.replace(' ', '_')}.png\"\n",
    "    qr.save(filename)\n",
    "    print(f\"QR code généré : {filename}\")\n"
   ]
  }
 ],
 "metadata": {
  "kernelspec": {
   "display_name": "Python 3",
   "language": "python",
   "name": "python3"
  },
  "language_info": {
   "codemirror_mode": {
    "name": "ipython",
    "version": 3
   },
   "file_extension": ".py",
   "mimetype": "text/x-python",
   "name": "python",
   "nbconvert_exporter": "python",
   "pygments_lexer": "ipython3",
   "version": "3.12.6"
  }
 },
 "nbformat": 4,
 "nbformat_minor": 2
}
